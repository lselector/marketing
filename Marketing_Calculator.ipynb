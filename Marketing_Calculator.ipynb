{
 "cells": [
  {
   "cell_type": "markdown",
   "metadata": {
    "slideshow": {
     "slide_type": "slide"
    }
   },
   "source": [
    "## Marketing Calculator\n",
    "\n",
    "<pre>\n",
    "Demo of a simple advertising / subscription makreting funnel\n",
    "</pre>"
   ]
  },
  {
   "cell_type": "code",
   "execution_count": 1,
   "metadata": {
    "ExecuteTime": {
     "end_time": "2021-06-27T19:51:44.685295Z",
     "start_time": "2021-06-27T19:51:44.673325Z"
    }
   },
   "outputs": [],
   "source": [
    "import sys, os, time\n",
    "import pandas as pd\n",
    "import numpy as np\n",
    "import datetime as dt\n",
    "import matplotlib.pyplot as plt\n",
    "# %matplotlib inline\n",
    "%config InlineBackend.figure_format = 'retina'\n",
    "nb_time_start = time.time()\n",
    "# ----------------------------------\n",
    "def print_date_time():\n",
    "    print(dt.datetime.now().strftime(\"%Y-%m-%d %H:%M:%S\"))"
   ]
  },
  {
   "cell_type": "code",
   "execution_count": 2,
   "metadata": {
    "ExecuteTime": {
     "end_time": "2021-06-27T20:15:26.442926Z",
     "start_time": "2021-06-27T20:15:26.438461Z"
    }
   },
   "outputs": [
    {
     "name": "stdout",
     "output_type": "stream",
     "text": [
      "cost_ad =   1,000.00\n",
      "Profit  =  19,310.00\n"
     ]
    }
   ],
   "source": [
    "# two-step simple sequence (1=book, 2=course)\n",
    "Nclc    = 20000  # Number of Clicks\n",
    "PPC     = 0.05   # PPC = Price Per Click, in $\n",
    "p1conv  = 1    # 1st product conversion (percent)\n",
    "p1price = 27     # 1st product price in dollars\n",
    "p2conv  = 15     # 2nd step conversion (from 1st step buyers) \n",
    "p2price = 497    # 2nd product price\n",
    "\n",
    "cost_ad = Nclc * PPC\n",
    "n1 = 0.01 * p1conv * Nclc\n",
    "n2 = 0.01 * p2conv * n1\n",
    "\n",
    "sales1 = n1 * p1price\n",
    "sales2 = n2 * p2price\n",
    "\n",
    "Profit = sales1 + sales2 - cost_ad\n",
    "\n",
    "print(f\"{cost_ad = :>10,.2f}\")\n",
    "print(f\"{Profit  = :>10,.2f}\")"
   ]
  },
  {
   "cell_type": "code",
   "execution_count": null,
   "metadata": {},
   "outputs": [],
   "source": []
  }
 ],
 "metadata": {
  "kernel_info": {
   "name": "python3"
  },
  "kernelspec": {
   "display_name": "Python 3 (ipykernel)",
   "language": "python",
   "name": "python3"
  },
  "language_info": {
   "codemirror_mode": {
    "name": "ipython",
    "version": 3
   },
   "file_extension": ".py",
   "mimetype": "text/x-python",
   "name": "python",
   "nbconvert_exporter": "python",
   "pygments_lexer": "ipython3",
   "version": "3.9.12"
  },
  "nteract": {
   "version": "0.12.3"
  },
  "toc": {
   "base_numbering": 1,
   "nav_menu": {},
   "number_sections": true,
   "sideBar": true,
   "skip_h1_title": false,
   "title_cell": "Table of Contents",
   "title_sidebar": "Contents",
   "toc_cell": false,
   "toc_position": {},
   "toc_section_display": true,
   "toc_window_display": true
  },
  "varInspector": {
   "cols": {
    "lenName": 16,
    "lenType": 16,
    "lenVar": 40
   },
   "kernels_config": {
    "python": {
     "delete_cmd_postfix": "",
     "delete_cmd_prefix": "del ",
     "library": "var_list.py",
     "varRefreshCmd": "print(var_dic_list())"
    },
    "r": {
     "delete_cmd_postfix": ") ",
     "delete_cmd_prefix": "rm(",
     "library": "var_list.r",
     "varRefreshCmd": "cat(var_dic_list()) "
    }
   },
   "types_to_exclude": [
    "module",
    "function",
    "builtin_function_or_method",
    "instance",
    "_Feature"
   ],
   "window_display": false
  }
 },
 "nbformat": 4,
 "nbformat_minor": 4
}
